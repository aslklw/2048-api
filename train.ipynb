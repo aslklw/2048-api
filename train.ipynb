{
  "nbformat": 4,
  "nbformat_minor": 0,
  "metadata": {
    "colab": {
      "name": "Untitled0.ipynb",
      "version": "0.3.2",
      "provenance": [],
      "collapsed_sections": []
    },
    "kernelspec": {
      "name": "python3",
      "display_name": "Python 3"
    },
    "accelerator": "TPU"
  },
  "cells": [
    {
      "metadata": {
        "id": "nhfQ8xFEbeoT",
        "colab_type": "text"
      },
      "cell_type": "markdown",
      "source": [
        "使用colab运行的配置代码"
      ]
    },
    {
      "metadata": {
        "id": "TfdLx68Qw0bD",
        "colab_type": "code",
        "outputId": "3063edeb-d872-450a-df50-13e26b55c990",
        "colab": {
          "base_uri": "https://localhost:8080/",
          "height": 281
        }
      },
      "cell_type": "code",
      "source": [
        "!apt-get install -y -qq software-properties-common python-software-properties module-init-tools\n",
        "!add-apt-repository -y ppa:alessandro-strada/ppa 2>&1 > /dev/null\n",
        "!apt-get update -qq 2>&1 > /dev/null\n",
        "!apt-get -y install -qq google-drive-ocamlfuse fuse\n",
        "from google.colab import auth\n",
        "auth.authenticate_user()\n",
        "from oauth2client.client import GoogleCredentials\n",
        "creds = GoogleCredentials.get_application_default()\n",
        "import getpass\n",
        "!google-drive-ocamlfuse -headless -id={creds.client_id} -secret={creds.client_secret} < /dev/null 2>&1 | grep URL\n",
        "vcode = getpass.getpass()\n",
        "!echo {vcode} | google-drive-ocamlfuse -headless -id={creds.client_id} -secret={creds.client_secret}"
      ],
      "execution_count": 0,
      "outputs": [
        {
          "output_type": "stream",
          "text": [
            "E: Package 'python-software-properties' has no installation candidate\n",
            "Selecting previously unselected package google-drive-ocamlfuse.\n",
            "(Reading database ... 110851 files and directories currently installed.)\n",
            "Preparing to unpack .../google-drive-ocamlfuse_0.7.1-0ubuntu3~ubuntu18.04.1_amd64.deb ...\n",
            "Unpacking google-drive-ocamlfuse (0.7.1-0ubuntu3~ubuntu18.04.1) ...\n",
            "Setting up google-drive-ocamlfuse (0.7.1-0ubuntu3~ubuntu18.04.1) ...\n",
            "Processing triggers for man-db (2.8.3-2ubuntu0.1) ...\n",
            "Please, open the following URL in a web browser: https://accounts.google.com/o/oauth2/auth?client_id=32555940559.apps.googleusercontent.com&redirect_uri=urn%3Aietf%3Awg%3Aoauth%3A2.0%3Aoob&scope=https%3A%2F%2Fwww.googleapis.com%2Fauth%2Fdrive&response_type=code&access_type=offline&approval_prompt=force\n",
            "··········\n",
            "Please, open the following URL in a web browser: https://accounts.google.com/o/oauth2/auth?client_id=32555940559.apps.googleusercontent.com&redirect_uri=urn%3Aietf%3Awg%3Aoauth%3A2.0%3Aoob&scope=https%3A%2F%2Fwww.googleapis.com%2Fauth%2Fdrive&response_type=code&access_type=offline&approval_prompt=force\n",
            "Please enter the verification code: Access token retrieved correctly.\n"
          ],
          "name": "stdout"
        }
      ]
    },
    {
      "metadata": {
        "id": "m8O8YXkEIRvW",
        "colab_type": "code",
        "colab": {}
      },
      "cell_type": "code",
      "source": [
        "!mkdir -p drive\n",
        "!google-drive-ocamlfuse drive  -o nonempty\n",
        "\n",
        "import os\n",
        "\n",
        "os.chdir(\"drive/2048-api\")\n"
      ],
      "execution_count": 0,
      "outputs": []
    },
    {
      "metadata": {
        "id": "wisldqSQsR0n",
        "colab_type": "code",
        "outputId": "cb5e6deb-dc5e-4ad7-fc14-2860f66108b4",
        "colab": {
          "base_uri": "https://localhost:8080/",
          "height": 35
        }
      },
      "cell_type": "code",
      "source": [
        "import keras\n",
        "from game2048.game import Game\n",
        "from game2048.displays import Display, IPythonDisplay\n",
        "from game2048.agents import ExpectiMaxAgent\n",
        "from keras.models import Sequential,load_model\n",
        "from keras.layers import Dense, Dropout, Flatten, Conv2D, MaxPooling2D,BatchNormalization\n",
        "from keras.optimizers import Adam\n",
        "import numpy as np\n",
        "from sklearn.model_selection import train_test_split"
      ],
      "execution_count": 0,
      "outputs": [
        {
          "output_type": "stream",
          "text": [
            "Using TensorFlow backend.\n"
          ],
          "name": "stderr"
        }
      ]
    },
    {
      "metadata": {
        "id": "u6JzwL2TbnPW",
        "colab_type": "text"
      },
      "cell_type": "markdown",
      "source": [
        "定义Agent和model"
      ]
    },
    {
      "metadata": {
        "id": "jrKTvSg4WSIg",
        "colab_type": "code",
        "colab": {}
      },
      "cell_type": "code",
      "source": [
        "from game2048.agents import Agent\n",
        "\n",
        "class MyAgent(Agent):\n",
        "    def __init__(self, game, display=None):\n",
        "        self.game = game\n",
        "        self.display = display\n",
        "    def step(self):\n",
        "       \n",
        "        x_train=np.array(self.game.board)\n",
        "        x=x_train\n",
        "        x=np.log2(x+1)\n",
        "        x=np.trunc(x)\n",
        "        x = keras.utils.to_categorical(x, 12)\n",
        "        x = x.reshape(1, 4, 4, 12)\n",
        "        pred=model.predict(x,batch_size=128)\n",
        "        r=pred[0]\n",
        "        r1=r.tolist()\n",
        "        direction2=r1.index(max(r1))\n",
        "       \n",
        "        \n",
        "        return direction2            "
      ],
      "execution_count": 0,
      "outputs": []
    },
    {
      "metadata": {
        "id": "bKoC8wCKcJUv",
        "colab_type": "code",
        "colab": {}
      },
      "cell_type": "code",
      "source": [
        "model=Sequential()\n",
        "model.add(Conv2D(filters= 128, kernel_size=(4,1),kernel_initializer='he_uniform', padding='Same', activation='relu',input_shape=input_shape))  # 第一个卷积层，32个卷积核，大小５x5，卷积模式SAME,激活函数relu,输入张量的大小 4*4*12\n",
        "model.add(Conv2D(filters= 128, kernel_size=(1,4),kernel_initializer='he_uniform', padding='Same', activation='relu')) \n",
        "\n",
        "model.add(Conv2D(filters= 128, kernel_size=(1,1),kernel_initializer='he_uniform', padding='Same', activation='relu')) \n",
        "model.add(Conv2D(filters= 128, kernel_size=(2,2),kernel_initializer='he_uniform', padding='Same', activation='relu')) \n",
        "model.add(Conv2D(filters= 128, kernel_size=(3,3),kernel_initializer='he_uniform', padding='Same', activation='relu')) \n",
        "model.add(Conv2D(filters= 128, kernel_size=(4,4),kernel_initializer='he_uniform', padding='Same', activation='relu'))  \n",
        "\n",
        "model.add(Flatten()) \n",
        "model.add(BatchNormalization())\n",
        "model.add(Dense(256, kernel_initializer='he_uniform',activation='relu')) \n",
        "model.add(BatchNormalization())\n",
        "model.add(Dense(128, kernel_initializer='he_uniform',activation='relu')) \n",
        "model.add(Dense(4, activation='softmax')) \n",
        "\n",
        "model.summary()\n",
        "model.compile(optimizer='adam', loss = 'categorical_crossentropy',metrics=['accuracy'])"
      ],
      "execution_count": 0,
      "outputs": []
    },
    {
      "metadata": {
        "id": "advwh8b7ttB9",
        "colab_type": "code",
        "colab": {}
      },
      "cell_type": "code",
      "source": [
        "model=load_model('model.h5')"
      ],
      "execution_count": 0,
      "outputs": []
    },
    {
      "metadata": {
        "id": "8wA2Fx43bM6E",
        "colab_type": "text"
      },
      "cell_type": "markdown",
      "source": [
        "主要训练部分"
      ]
    },
    {
      "metadata": {
        "id": "hEIqXj-_GQWG",
        "colab_type": "code",
        "colab": {}
      },
      "cell_type": "code",
      "source": [
        "model=load_model('2048_new2_2048.h5')\n",
        "#清空棋盘和方向的矩阵\n",
        "count=0\n",
        "while count<500:\n",
        "    count=count+1\n",
        "    print('第',count+1,'轮：')\n",
        "    image=[]\n",
        "    label=[]\n",
        "    for _ in range(0,50):\n",
        "        game = Game(4, score_to_win=1024, random=False)\n",
        "        agent1 = ExpectiMaxAgent(game)\n",
        "\n",
        "        while game.end==False:\n",
        "            direction=agent1.step()\n",
        "            \n",
        "            x=np.array(game.board)\n",
        "            x=np.log2(x+1)\n",
        "            x=np.trunc(x)\n",
        "            x = keras.utils.to_categorical(x, 12)\n",
        "            x = x.reshape(1, 4, 4, 12)\n",
        "            pred=model.predict(x,batch_size=128)\n",
        "            r=pred[0]\n",
        "            r1=r.tolist()\n",
        "            mydirection=r1.index(max(r1))\n",
        "            image.append(game.board)\n",
        "            label.append(direction)\n",
        "            game.move(mydirection)\n",
        "            \n",
        "        print(np.max(game.board))\n",
        "        x=np.array(game.board)\n",
        "\n",
        "    x_train=np.array(image)\n",
        "    y_train=np.array(label)\n",
        "    x_train=np.log2(x_train+1)\n",
        "    x_train=np.trunc(x_train)\n",
        "    x_train = keras.utils.to_categorical(x_train, 12)\n",
        "\n",
        "    print(x_train.shape)\n",
        "   \n",
        "    y_train = keras.utils.to_categorical(y_train,4)\n",
        "    \n",
        "    model.train_on_batch(x_train, y_train)\n",
        "    model.save('model.h5')\n"
      ],
      "execution_count": 0,
      "outputs": []
    },
    {
      "metadata": {
        "id": "LAja05QFbbED",
        "colab_type": "text"
      },
      "cell_type": "markdown",
      "source": [
        "评测50次分数"
      ]
    },
    {
      "metadata": {
        "id": "CYJh3q0HthF_",
        "colab_type": "code",
        "outputId": "1b4a971b-cef0-458d-cc4b-b5a7e2b8e3a4",
        "colab": {
          "base_uri": "https://localhost:8080/",
          "height": 35
        }
      },
      "cell_type": "code",
      "source": [
        "i=[]\n",
        "\n",
        "for _ in range(50):\n",
        "    game = Game(4, random=False)\n",
        "\n",
        "    agent1 = MyOwnAgent(game)\n",
        "    agent1.play()\n",
        "    i.append(np.max(game.board))\n",
        "    \n",
        "print(np.mean(i),np.max(i))"
      ],
      "execution_count": 0,
      "outputs": [
        {
          "output_type": "stream",
          "text": [
            "119.68 512.0\n"
          ],
          "name": "stdout"
        }
      ]
    },
    {
      "metadata": {
        "id": "uP_Gam1z05HC",
        "colab_type": "code",
        "colab": {}
      },
      "cell_type": "code",
      "source": [
        "model.save('model666.h5')"
      ],
      "execution_count": 0,
      "outputs": []
    }
  ]
}